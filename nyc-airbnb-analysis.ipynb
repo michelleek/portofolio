{
 "cells": [
  {
   "cell_type": "markdown",
   "id": "dec1587e",
   "metadata": {
    "papermill": {
     "duration": 0.012877,
     "end_time": "2023-06-16T14:11:49.355364",
     "exception": false,
     "start_time": "2023-06-16T14:11:49.342487",
     "status": "completed"
    },
    "tags": []
   },
   "source": [
    "# Airbnb In NYC? Where Is The Most Suitable Place?"
   ]
  },
  {
   "cell_type": "markdown",
   "id": "6be37622",
   "metadata": {
    "papermill": {
     "duration": 0.011612,
     "end_time": "2023-06-16T14:11:49.379201",
     "exception": false,
     "start_time": "2023-06-16T14:11:49.367589",
     "status": "completed"
    },
    "tags": []
   },
   "source": [
    "# INTRODUCTION"
   ]
  },
  {
   "cell_type": "markdown",
   "id": "13d6dc12",
   "metadata": {
    "papermill": {
     "duration": 0.012335,
     "end_time": "2023-06-16T14:11:49.405142",
     "exception": false,
     "start_time": "2023-06-16T14:11:49.392807",
     "status": "completed"
    },
    "tags": []
   },
   "source": [
    "**Title: NYC Airbnb Analysis**\n",
    "\n",
    "**Author: Michelle Kurniawan**\n",
    "\n",
    "**Date: 15 June 2023**"
   ]
  },
  {
   "cell_type": "markdown",
   "id": "8c871edf",
   "metadata": {
    "papermill": {
     "duration": 0.011641,
     "end_time": "2023-06-16T14:11:49.428840",
     "exception": false,
     "start_time": "2023-06-16T14:11:49.417199",
     "status": "completed"
    },
    "tags": []
   },
   "source": [
    "## Background\n",
    "Airbnb has become a favorite choice for traveler because they have a cheaper price than hotel. Although airbnb has a smaller room, most of the people do not mind that. Airbnb operates online following current technology development. They provides an easy method to consumer. Therefore, the business continues to grow bigger and bigger. \n",
    "\n",
    "This time, i want to analyse airbnb in NYC. One of the most crowded city in the world. \n",
    "\n",
    "## Task\n",
    "Analyse NYC Airbnb as a information for people who want to open airbnb.\n",
    "\n",
    "## Objective\n",
    "1. To find top 5 listing hosts and their places.\n",
    "2. To find a suitable place to open airbnb."
   ]
  },
  {
   "cell_type": "markdown",
   "id": "4a4a33d6",
   "metadata": {
    "papermill": {
     "duration": 0.011762,
     "end_time": "2023-06-16T14:11:49.452718",
     "exception": false,
     "start_time": "2023-06-16T14:11:49.440956",
     "status": "completed"
    },
    "tags": []
   },
   "source": [
    "This dataset is taken from Kaggle's Dataset named **\"alldatasets\"**."
   ]
  },
  {
   "cell_type": "markdown",
   "id": "d68308e9",
   "metadata": {
    "papermill": {
     "duration": 0.011465,
     "end_time": "2023-06-16T14:11:49.476090",
     "exception": false,
     "start_time": "2023-06-16T14:11:49.464625",
     "status": "completed"
    },
    "tags": []
   },
   "source": [
    "# INSTALL LIBRARY"
   ]
  },
  {
   "cell_type": "code",
   "execution_count": 1,
   "id": "96c0297c",
   "metadata": {
    "_cell_guid": "b1076dfc-b9ad-4769-8c92-a6c4dae69d19",
    "_uuid": "8f2839f25d086af736a60e9eeb907d3b93b6e0e5",
    "execution": {
     "iopub.execute_input": "2023-06-16T14:11:49.502137Z",
     "iopub.status.busy": "2023-06-16T14:11:49.501627Z",
     "iopub.status.idle": "2023-06-16T14:11:49.513969Z",
     "shell.execute_reply": "2023-06-16T14:11:49.513184Z"
    },
    "papermill": {
     "duration": 0.027918,
     "end_time": "2023-06-16T14:11:49.516111",
     "exception": false,
     "start_time": "2023-06-16T14:11:49.488193",
     "status": "completed"
    },
    "tags": []
   },
   "outputs": [],
   "source": [
    "import numpy as np \n",
    "import pandas as pd\n",
    "import matplotlib.pyplot as plt"
   ]
  },
  {
   "cell_type": "markdown",
   "id": "02f4b367",
   "metadata": {
    "papermill": {
     "duration": 0.011452,
     "end_time": "2023-06-16T14:11:49.539393",
     "exception": false,
     "start_time": "2023-06-16T14:11:49.527941",
     "status": "completed"
    },
    "tags": []
   },
   "source": [
    "# EXPORT DATA"
   ]
  },
  {
   "cell_type": "markdown",
   "id": "b9b2b9bc",
   "metadata": {
    "papermill": {
     "duration": 0.012069,
     "end_time": "2023-06-16T14:11:49.563286",
     "exception": false,
     "start_time": "2023-06-16T14:11:49.551217",
     "status": "completed"
    },
    "tags": []
   },
   "source": []
  },
  {
   "cell_type": "code",
   "execution_count": 2,
   "id": "dc8c48c3",
   "metadata": {
    "execution": {
     "iopub.execute_input": "2023-06-16T14:11:49.589315Z",
     "iopub.status.busy": "2023-06-16T14:11:49.588636Z",
     "iopub.status.idle": "2023-06-16T14:11:49.606625Z",
     "shell.execute_reply": "2023-06-16T14:11:49.605700Z"
    },
    "papermill": {
     "duration": 0.034019,
     "end_time": "2023-06-16T14:11:49.609397",
     "exception": false,
     "start_time": "2023-06-16T14:11:49.575378",
     "status": "completed"
    },
    "tags": []
   },
   "outputs": [
    {
     "name": "stdout",
     "output_type": "stream",
     "text": [
      "/kaggle/input/alldatasets/census_block_loc.csv\n",
      "/kaggle/input/alldatasets/listings-3.csv\n",
      "/kaggle/input/alldatasets/NYPD_Complaint_Data.csv\n",
      "/kaggle/input/alldatasets/AB_NYC_2019.csv\n",
      "/kaggle/input/alldatasets/nyc_census_tracts.csv\n"
     ]
    }
   ],
   "source": [
    "import os\n",
    "for dirname, _, filenames in os.walk('/kaggle/input'):\n",
    "    for filename in filenames:\n",
    "        print(os.path.join(dirname, filename))"
   ]
  },
  {
   "cell_type": "code",
   "execution_count": 3,
   "id": "a5433cf9",
   "metadata": {
    "execution": {
     "iopub.execute_input": "2023-06-16T14:11:49.636018Z",
     "iopub.status.busy": "2023-06-16T14:11:49.635609Z",
     "iopub.status.idle": "2023-06-16T14:11:50.023456Z",
     "shell.execute_reply": "2023-06-16T14:11:50.022350Z"
    },
    "papermill": {
     "duration": 0.404013,
     "end_time": "2023-06-16T14:11:50.026286",
     "exception": false,
     "start_time": "2023-06-16T14:11:49.622273",
     "status": "completed"
    },
    "tags": []
   },
   "outputs": [
    {
     "data": {
      "text/html": [
       "<div>\n",
       "<style scoped>\n",
       "    .dataframe tbody tr th:only-of-type {\n",
       "        vertical-align: middle;\n",
       "    }\n",
       "\n",
       "    .dataframe tbody tr th {\n",
       "        vertical-align: top;\n",
       "    }\n",
       "\n",
       "    .dataframe thead th {\n",
       "        text-align: right;\n",
       "    }\n",
       "</style>\n",
       "<table border=\"1\" class=\"dataframe\">\n",
       "  <thead>\n",
       "    <tr style=\"text-align: right;\">\n",
       "      <th></th>\n",
       "      <th>id</th>\n",
       "      <th>name</th>\n",
       "      <th>host_id</th>\n",
       "      <th>host_name</th>\n",
       "      <th>neighbourhood_group</th>\n",
       "      <th>neighbourhood</th>\n",
       "      <th>latitude</th>\n",
       "      <th>longitude</th>\n",
       "      <th>room_type</th>\n",
       "      <th>price</th>\n",
       "      <th>minimum_nights</th>\n",
       "      <th>number_of_reviews</th>\n",
       "      <th>last_review</th>\n",
       "      <th>reviews_per_month</th>\n",
       "      <th>calculated_host_listings_count</th>\n",
       "      <th>availability_365</th>\n",
       "    </tr>\n",
       "  </thead>\n",
       "  <tbody>\n",
       "    <tr>\n",
       "      <th>0</th>\n",
       "      <td>2539</td>\n",
       "      <td>Clean &amp; quiet apt home by the park</td>\n",
       "      <td>2787</td>\n",
       "      <td>John</td>\n",
       "      <td>Brooklyn</td>\n",
       "      <td>Kensington</td>\n",
       "      <td>40.64749</td>\n",
       "      <td>-73.97237</td>\n",
       "      <td>Private room</td>\n",
       "      <td>149</td>\n",
       "      <td>1</td>\n",
       "      <td>9</td>\n",
       "      <td>2018-10-19</td>\n",
       "      <td>0.21</td>\n",
       "      <td>6</td>\n",
       "      <td>365</td>\n",
       "    </tr>\n",
       "    <tr>\n",
       "      <th>1</th>\n",
       "      <td>2595</td>\n",
       "      <td>Skylit Midtown Castle</td>\n",
       "      <td>2845</td>\n",
       "      <td>Jennifer</td>\n",
       "      <td>Manhattan</td>\n",
       "      <td>Midtown</td>\n",
       "      <td>40.75362</td>\n",
       "      <td>-73.98377</td>\n",
       "      <td>Entire home/apt</td>\n",
       "      <td>225</td>\n",
       "      <td>1</td>\n",
       "      <td>45</td>\n",
       "      <td>2019-05-21</td>\n",
       "      <td>0.38</td>\n",
       "      <td>2</td>\n",
       "      <td>355</td>\n",
       "    </tr>\n",
       "    <tr>\n",
       "      <th>2</th>\n",
       "      <td>3647</td>\n",
       "      <td>THE VILLAGE OF HARLEM....NEW YORK !</td>\n",
       "      <td>4632</td>\n",
       "      <td>Elisabeth</td>\n",
       "      <td>Manhattan</td>\n",
       "      <td>Harlem</td>\n",
       "      <td>40.80902</td>\n",
       "      <td>-73.94190</td>\n",
       "      <td>Private room</td>\n",
       "      <td>150</td>\n",
       "      <td>3</td>\n",
       "      <td>0</td>\n",
       "      <td>NaN</td>\n",
       "      <td>NaN</td>\n",
       "      <td>1</td>\n",
       "      <td>365</td>\n",
       "    </tr>\n",
       "    <tr>\n",
       "      <th>3</th>\n",
       "      <td>3831</td>\n",
       "      <td>Cozy Entire Floor of Brownstone</td>\n",
       "      <td>4869</td>\n",
       "      <td>LisaRoxanne</td>\n",
       "      <td>Brooklyn</td>\n",
       "      <td>Clinton Hill</td>\n",
       "      <td>40.68514</td>\n",
       "      <td>-73.95976</td>\n",
       "      <td>Entire home/apt</td>\n",
       "      <td>89</td>\n",
       "      <td>1</td>\n",
       "      <td>270</td>\n",
       "      <td>2019-07-05</td>\n",
       "      <td>4.64</td>\n",
       "      <td>1</td>\n",
       "      <td>194</td>\n",
       "    </tr>\n",
       "    <tr>\n",
       "      <th>4</th>\n",
       "      <td>5022</td>\n",
       "      <td>Entire Apt: Spacious Studio/Loft by central park</td>\n",
       "      <td>7192</td>\n",
       "      <td>Laura</td>\n",
       "      <td>Manhattan</td>\n",
       "      <td>East Harlem</td>\n",
       "      <td>40.79851</td>\n",
       "      <td>-73.94399</td>\n",
       "      <td>Entire home/apt</td>\n",
       "      <td>80</td>\n",
       "      <td>10</td>\n",
       "      <td>9</td>\n",
       "      <td>2018-11-19</td>\n",
       "      <td>0.10</td>\n",
       "      <td>1</td>\n",
       "      <td>0</td>\n",
       "    </tr>\n",
       "    <tr>\n",
       "      <th>...</th>\n",
       "      <td>...</td>\n",
       "      <td>...</td>\n",
       "      <td>...</td>\n",
       "      <td>...</td>\n",
       "      <td>...</td>\n",
       "      <td>...</td>\n",
       "      <td>...</td>\n",
       "      <td>...</td>\n",
       "      <td>...</td>\n",
       "      <td>...</td>\n",
       "      <td>...</td>\n",
       "      <td>...</td>\n",
       "      <td>...</td>\n",
       "      <td>...</td>\n",
       "      <td>...</td>\n",
       "      <td>...</td>\n",
       "    </tr>\n",
       "    <tr>\n",
       "      <th>48890</th>\n",
       "      <td>36484665</td>\n",
       "      <td>Charming one bedroom - newly renovated rowhouse</td>\n",
       "      <td>8232441</td>\n",
       "      <td>Sabrina</td>\n",
       "      <td>Brooklyn</td>\n",
       "      <td>Bedford-Stuyvesant</td>\n",
       "      <td>40.67853</td>\n",
       "      <td>-73.94995</td>\n",
       "      <td>Private room</td>\n",
       "      <td>70</td>\n",
       "      <td>2</td>\n",
       "      <td>0</td>\n",
       "      <td>NaN</td>\n",
       "      <td>NaN</td>\n",
       "      <td>2</td>\n",
       "      <td>9</td>\n",
       "    </tr>\n",
       "    <tr>\n",
       "      <th>48891</th>\n",
       "      <td>36485057</td>\n",
       "      <td>Affordable room in Bushwick/East Williamsburg</td>\n",
       "      <td>6570630</td>\n",
       "      <td>Marisol</td>\n",
       "      <td>Brooklyn</td>\n",
       "      <td>Bushwick</td>\n",
       "      <td>40.70184</td>\n",
       "      <td>-73.93317</td>\n",
       "      <td>Private room</td>\n",
       "      <td>40</td>\n",
       "      <td>4</td>\n",
       "      <td>0</td>\n",
       "      <td>NaN</td>\n",
       "      <td>NaN</td>\n",
       "      <td>2</td>\n",
       "      <td>36</td>\n",
       "    </tr>\n",
       "    <tr>\n",
       "      <th>48892</th>\n",
       "      <td>36485431</td>\n",
       "      <td>Sunny Studio at Historical Neighborhood</td>\n",
       "      <td>23492952</td>\n",
       "      <td>Ilgar &amp; Aysel</td>\n",
       "      <td>Manhattan</td>\n",
       "      <td>Harlem</td>\n",
       "      <td>40.81475</td>\n",
       "      <td>-73.94867</td>\n",
       "      <td>Entire home/apt</td>\n",
       "      <td>115</td>\n",
       "      <td>10</td>\n",
       "      <td>0</td>\n",
       "      <td>NaN</td>\n",
       "      <td>NaN</td>\n",
       "      <td>1</td>\n",
       "      <td>27</td>\n",
       "    </tr>\n",
       "    <tr>\n",
       "      <th>48893</th>\n",
       "      <td>36485609</td>\n",
       "      <td>43rd St. Time Square-cozy single bed</td>\n",
       "      <td>30985759</td>\n",
       "      <td>Taz</td>\n",
       "      <td>Manhattan</td>\n",
       "      <td>Hell's Kitchen</td>\n",
       "      <td>40.75751</td>\n",
       "      <td>-73.99112</td>\n",
       "      <td>Shared room</td>\n",
       "      <td>55</td>\n",
       "      <td>1</td>\n",
       "      <td>0</td>\n",
       "      <td>NaN</td>\n",
       "      <td>NaN</td>\n",
       "      <td>6</td>\n",
       "      <td>2</td>\n",
       "    </tr>\n",
       "    <tr>\n",
       "      <th>48894</th>\n",
       "      <td>36487245</td>\n",
       "      <td>Trendy duplex in the very heart of Hell's Kitchen</td>\n",
       "      <td>68119814</td>\n",
       "      <td>Christophe</td>\n",
       "      <td>Manhattan</td>\n",
       "      <td>Hell's Kitchen</td>\n",
       "      <td>40.76404</td>\n",
       "      <td>-73.98933</td>\n",
       "      <td>Private room</td>\n",
       "      <td>90</td>\n",
       "      <td>7</td>\n",
       "      <td>0</td>\n",
       "      <td>NaN</td>\n",
       "      <td>NaN</td>\n",
       "      <td>1</td>\n",
       "      <td>23</td>\n",
       "    </tr>\n",
       "  </tbody>\n",
       "</table>\n",
       "<p>48895 rows × 16 columns</p>\n",
       "</div>"
      ],
      "text/plain": [
       "             id                                               name   host_id  \\\n",
       "0          2539                 Clean & quiet apt home by the park      2787   \n",
       "1          2595                              Skylit Midtown Castle      2845   \n",
       "2          3647                THE VILLAGE OF HARLEM....NEW YORK !      4632   \n",
       "3          3831                    Cozy Entire Floor of Brownstone      4869   \n",
       "4          5022   Entire Apt: Spacious Studio/Loft by central park      7192   \n",
       "...         ...                                                ...       ...   \n",
       "48890  36484665    Charming one bedroom - newly renovated rowhouse   8232441   \n",
       "48891  36485057      Affordable room in Bushwick/East Williamsburg   6570630   \n",
       "48892  36485431            Sunny Studio at Historical Neighborhood  23492952   \n",
       "48893  36485609               43rd St. Time Square-cozy single bed  30985759   \n",
       "48894  36487245  Trendy duplex in the very heart of Hell's Kitchen  68119814   \n",
       "\n",
       "           host_name neighbourhood_group       neighbourhood  latitude  \\\n",
       "0               John            Brooklyn          Kensington  40.64749   \n",
       "1           Jennifer           Manhattan             Midtown  40.75362   \n",
       "2          Elisabeth           Manhattan              Harlem  40.80902   \n",
       "3        LisaRoxanne            Brooklyn        Clinton Hill  40.68514   \n",
       "4              Laura           Manhattan         East Harlem  40.79851   \n",
       "...              ...                 ...                 ...       ...   \n",
       "48890        Sabrina            Brooklyn  Bedford-Stuyvesant  40.67853   \n",
       "48891        Marisol            Brooklyn            Bushwick  40.70184   \n",
       "48892  Ilgar & Aysel           Manhattan              Harlem  40.81475   \n",
       "48893            Taz           Manhattan      Hell's Kitchen  40.75751   \n",
       "48894     Christophe           Manhattan      Hell's Kitchen  40.76404   \n",
       "\n",
       "       longitude        room_type  price  minimum_nights  number_of_reviews  \\\n",
       "0      -73.97237     Private room    149               1                  9   \n",
       "1      -73.98377  Entire home/apt    225               1                 45   \n",
       "2      -73.94190     Private room    150               3                  0   \n",
       "3      -73.95976  Entire home/apt     89               1                270   \n",
       "4      -73.94399  Entire home/apt     80              10                  9   \n",
       "...          ...              ...    ...             ...                ...   \n",
       "48890  -73.94995     Private room     70               2                  0   \n",
       "48891  -73.93317     Private room     40               4                  0   \n",
       "48892  -73.94867  Entire home/apt    115              10                  0   \n",
       "48893  -73.99112      Shared room     55               1                  0   \n",
       "48894  -73.98933     Private room     90               7                  0   \n",
       "\n",
       "      last_review  reviews_per_month  calculated_host_listings_count  \\\n",
       "0      2018-10-19               0.21                               6   \n",
       "1      2019-05-21               0.38                               2   \n",
       "2             NaN                NaN                               1   \n",
       "3      2019-07-05               4.64                               1   \n",
       "4      2018-11-19               0.10                               1   \n",
       "...           ...                ...                             ...   \n",
       "48890         NaN                NaN                               2   \n",
       "48891         NaN                NaN                               2   \n",
       "48892         NaN                NaN                               1   \n",
       "48893         NaN                NaN                               6   \n",
       "48894         NaN                NaN                               1   \n",
       "\n",
       "       availability_365  \n",
       "0                   365  \n",
       "1                   355  \n",
       "2                   365  \n",
       "3                   194  \n",
       "4                     0  \n",
       "...                 ...  \n",
       "48890                 9  \n",
       "48891                36  \n",
       "48892                27  \n",
       "48893                 2  \n",
       "48894                23  \n",
       "\n",
       "[48895 rows x 16 columns]"
      ]
     },
     "execution_count": 3,
     "metadata": {},
     "output_type": "execute_result"
    }
   ],
   "source": [
    "# Read data name it as df\n",
    "df = pd.read_csv('../input/alldatasets/AB_NYC_2019.csv')\n",
    "df"
   ]
  },
  {
   "cell_type": "markdown",
   "id": "15f461c1",
   "metadata": {
    "papermill": {
     "duration": 0.012249,
     "end_time": "2023-06-16T14:11:50.051121",
     "exception": false,
     "start_time": "2023-06-16T14:11:50.038872",
     "status": "completed"
    },
    "tags": []
   },
   "source": [
    "# CLEANSING DATA"
   ]
  },
  {
   "cell_type": "markdown",
   "id": "3c58fe6a",
   "metadata": {
    "papermill": {
     "duration": 0.011629,
     "end_time": "2023-06-16T14:11:50.074972",
     "exception": false,
     "start_time": "2023-06-16T14:11:50.063343",
     "status": "completed"
    },
    "tags": []
   },
   "source": [
    "First, we want to know if there is a data with null value."
   ]
  },
  {
   "cell_type": "code",
   "execution_count": 4,
   "id": "665530e3",
   "metadata": {
    "execution": {
     "iopub.execute_input": "2023-06-16T14:11:50.102182Z",
     "iopub.status.busy": "2023-06-16T14:11:50.101270Z",
     "iopub.status.idle": "2023-06-16T14:11:50.202807Z",
     "shell.execute_reply": "2023-06-16T14:11:50.201736Z"
    },
    "papermill": {
     "duration": 0.117889,
     "end_time": "2023-06-16T14:11:50.205363",
     "exception": false,
     "start_time": "2023-06-16T14:11:50.087474",
     "status": "completed"
    },
    "tags": []
   },
   "outputs": [
    {
     "data": {
      "text/plain": [
       "id                                    0\n",
       "name                                 16\n",
       "host_id                               0\n",
       "host_name                            21\n",
       "neighbourhood_group                   0\n",
       "neighbourhood                         0\n",
       "latitude                              0\n",
       "longitude                             0\n",
       "room_type                             0\n",
       "price                                 0\n",
       "minimum_nights                        0\n",
       "number_of_reviews                     0\n",
       "last_review                       10052\n",
       "reviews_per_month                 10052\n",
       "calculated_host_listings_count        0\n",
       "availability_365                      0\n",
       "dtype: int64"
      ]
     },
     "execution_count": 4,
     "metadata": {},
     "output_type": "execute_result"
    }
   ],
   "source": [
    "missing = df.isnull().sum()\n",
    "missing"
   ]
  },
  {
   "cell_type": "markdown",
   "id": "b645128d",
   "metadata": {
    "papermill": {
     "duration": 0.012378,
     "end_time": "2023-06-16T14:11:50.230568",
     "exception": false,
     "start_time": "2023-06-16T14:11:50.218190",
     "status": "completed"
    },
    "tags": []
   },
   "source": [
    "As you can see, there are some columns that have missing value. To manipulate the data, change null into 0."
   ]
  },
  {
   "cell_type": "code",
   "execution_count": 5,
   "id": "ad91914d",
   "metadata": {
    "execution": {
     "iopub.execute_input": "2023-06-16T14:11:50.258043Z",
     "iopub.status.busy": "2023-06-16T14:11:50.257648Z",
     "iopub.status.idle": "2023-06-16T14:11:50.358939Z",
     "shell.execute_reply": "2023-06-16T14:11:50.357821Z"
    },
    "papermill": {
     "duration": 0.118265,
     "end_time": "2023-06-16T14:11:50.361643",
     "exception": false,
     "start_time": "2023-06-16T14:11:50.243378",
     "status": "completed"
    },
    "tags": []
   },
   "outputs": [],
   "source": [
    "df = df.fillna(0)"
   ]
  },
  {
   "cell_type": "markdown",
   "id": "dd88d070",
   "metadata": {
    "papermill": {
     "duration": 0.012465,
     "end_time": "2023-06-16T14:11:50.387337",
     "exception": false,
     "start_time": "2023-06-16T14:11:50.374872",
     "status": "completed"
    },
    "tags": []
   },
   "source": [
    "After change null value into zero, search every column datatype using .info()"
   ]
  },
  {
   "cell_type": "code",
   "execution_count": 6,
   "id": "c358c323",
   "metadata": {
    "execution": {
     "iopub.execute_input": "2023-06-16T14:11:50.414653Z",
     "iopub.status.busy": "2023-06-16T14:11:50.414247Z",
     "iopub.status.idle": "2023-06-16T14:11:50.530310Z",
     "shell.execute_reply": "2023-06-16T14:11:50.529533Z"
    },
    "papermill": {
     "duration": 0.132637,
     "end_time": "2023-06-16T14:11:50.532791",
     "exception": false,
     "start_time": "2023-06-16T14:11:50.400154",
     "status": "completed"
    },
    "tags": []
   },
   "outputs": [
    {
     "name": "stdout",
     "output_type": "stream",
     "text": [
      "<class 'pandas.core.frame.DataFrame'>\n",
      "RangeIndex: 48895 entries, 0 to 48894\n",
      "Data columns (total 16 columns):\n",
      " #   Column                          Non-Null Count  Dtype  \n",
      "---  ------                          --------------  -----  \n",
      " 0   id                              48895 non-null  int64  \n",
      " 1   name                            48895 non-null  object \n",
      " 2   host_id                         48895 non-null  int64  \n",
      " 3   host_name                       48895 non-null  object \n",
      " 4   neighbourhood_group             48895 non-null  object \n",
      " 5   neighbourhood                   48895 non-null  object \n",
      " 6   latitude                        48895 non-null  float64\n",
      " 7   longitude                       48895 non-null  float64\n",
      " 8   room_type                       48895 non-null  object \n",
      " 9   price                           48895 non-null  int64  \n",
      " 10  minimum_nights                  48895 non-null  int64  \n",
      " 11  number_of_reviews               48895 non-null  int64  \n",
      " 12  last_review                     48895 non-null  object \n",
      " 13  reviews_per_month               48895 non-null  float64\n",
      " 14  calculated_host_listings_count  48895 non-null  int64  \n",
      " 15  availability_365                48895 non-null  int64  \n",
      "dtypes: float64(3), int64(7), object(6)\n",
      "memory usage: 6.0+ MB\n"
     ]
    }
   ],
   "source": [
    "df.info()"
   ]
  },
  {
   "cell_type": "markdown",
   "id": "a40095ae",
   "metadata": {
    "papermill": {
     "duration": 0.01248,
     "end_time": "2023-06-16T14:11:50.558279",
     "exception": false,
     "start_time": "2023-06-16T14:11:50.545799",
     "status": "completed"
    },
    "tags": []
   },
   "source": [
    "There is not a single column with null value and there are many datatype such as integer, float, and object (string)."
   ]
  },
  {
   "cell_type": "markdown",
   "id": "8653b2fb",
   "metadata": {
    "papermill": {
     "duration": 0.012604,
     "end_time": "2023-06-16T14:11:50.583847",
     "exception": false,
     "start_time": "2023-06-16T14:11:50.571243",
     "status": "completed"
    },
    "tags": []
   },
   "source": [
    "# ANALYZE"
   ]
  },
  {
   "cell_type": "code",
   "execution_count": 7,
   "id": "b4cfdbb9",
   "metadata": {
    "execution": {
     "iopub.execute_input": "2023-06-16T14:11:50.611954Z",
     "iopub.status.busy": "2023-06-16T14:11:50.611555Z",
     "iopub.status.idle": "2023-06-16T14:11:50.671651Z",
     "shell.execute_reply": "2023-06-16T14:11:50.670867Z"
    },
    "papermill": {
     "duration": 0.07658,
     "end_time": "2023-06-16T14:11:50.673815",
     "exception": false,
     "start_time": "2023-06-16T14:11:50.597235",
     "status": "completed"
    },
    "tags": []
   },
   "outputs": [
    {
     "data": {
      "text/html": [
       "<div>\n",
       "<style scoped>\n",
       "    .dataframe tbody tr th:only-of-type {\n",
       "        vertical-align: middle;\n",
       "    }\n",
       "\n",
       "    .dataframe tbody tr th {\n",
       "        vertical-align: top;\n",
       "    }\n",
       "\n",
       "    .dataframe thead th {\n",
       "        text-align: right;\n",
       "    }\n",
       "</style>\n",
       "<table border=\"1\" class=\"dataframe\">\n",
       "  <thead>\n",
       "    <tr style=\"text-align: right;\">\n",
       "      <th></th>\n",
       "      <th>id</th>\n",
       "      <th>host_id</th>\n",
       "      <th>latitude</th>\n",
       "      <th>longitude</th>\n",
       "      <th>price</th>\n",
       "      <th>minimum_nights</th>\n",
       "      <th>number_of_reviews</th>\n",
       "      <th>reviews_per_month</th>\n",
       "      <th>calculated_host_listings_count</th>\n",
       "      <th>availability_365</th>\n",
       "    </tr>\n",
       "  </thead>\n",
       "  <tbody>\n",
       "    <tr>\n",
       "      <th>count</th>\n",
       "      <td>4.889500e+04</td>\n",
       "      <td>4.889500e+04</td>\n",
       "      <td>48895.000000</td>\n",
       "      <td>48895.000000</td>\n",
       "      <td>48895.000000</td>\n",
       "      <td>48895.000000</td>\n",
       "      <td>48895.000000</td>\n",
       "      <td>48895.000000</td>\n",
       "      <td>48895.000000</td>\n",
       "      <td>48895.000000</td>\n",
       "    </tr>\n",
       "    <tr>\n",
       "      <th>mean</th>\n",
       "      <td>1.901714e+07</td>\n",
       "      <td>6.762001e+07</td>\n",
       "      <td>40.728949</td>\n",
       "      <td>-73.952170</td>\n",
       "      <td>152.720687</td>\n",
       "      <td>7.029962</td>\n",
       "      <td>23.274466</td>\n",
       "      <td>1.090910</td>\n",
       "      <td>7.143982</td>\n",
       "      <td>112.781327</td>\n",
       "    </tr>\n",
       "    <tr>\n",
       "      <th>std</th>\n",
       "      <td>1.098311e+07</td>\n",
       "      <td>7.861097e+07</td>\n",
       "      <td>0.054530</td>\n",
       "      <td>0.046157</td>\n",
       "      <td>240.154170</td>\n",
       "      <td>20.510550</td>\n",
       "      <td>44.550582</td>\n",
       "      <td>1.597283</td>\n",
       "      <td>32.952519</td>\n",
       "      <td>131.622289</td>\n",
       "    </tr>\n",
       "    <tr>\n",
       "      <th>min</th>\n",
       "      <td>2.539000e+03</td>\n",
       "      <td>2.438000e+03</td>\n",
       "      <td>40.499790</td>\n",
       "      <td>-74.244420</td>\n",
       "      <td>0.000000</td>\n",
       "      <td>1.000000</td>\n",
       "      <td>0.000000</td>\n",
       "      <td>0.000000</td>\n",
       "      <td>1.000000</td>\n",
       "      <td>0.000000</td>\n",
       "    </tr>\n",
       "    <tr>\n",
       "      <th>25%</th>\n",
       "      <td>9.471945e+06</td>\n",
       "      <td>7.822033e+06</td>\n",
       "      <td>40.690100</td>\n",
       "      <td>-73.983070</td>\n",
       "      <td>69.000000</td>\n",
       "      <td>1.000000</td>\n",
       "      <td>1.000000</td>\n",
       "      <td>0.040000</td>\n",
       "      <td>1.000000</td>\n",
       "      <td>0.000000</td>\n",
       "    </tr>\n",
       "    <tr>\n",
       "      <th>50%</th>\n",
       "      <td>1.967728e+07</td>\n",
       "      <td>3.079382e+07</td>\n",
       "      <td>40.723070</td>\n",
       "      <td>-73.955680</td>\n",
       "      <td>106.000000</td>\n",
       "      <td>3.000000</td>\n",
       "      <td>5.000000</td>\n",
       "      <td>0.370000</td>\n",
       "      <td>1.000000</td>\n",
       "      <td>45.000000</td>\n",
       "    </tr>\n",
       "    <tr>\n",
       "      <th>75%</th>\n",
       "      <td>2.915218e+07</td>\n",
       "      <td>1.074344e+08</td>\n",
       "      <td>40.763115</td>\n",
       "      <td>-73.936275</td>\n",
       "      <td>175.000000</td>\n",
       "      <td>5.000000</td>\n",
       "      <td>24.000000</td>\n",
       "      <td>1.580000</td>\n",
       "      <td>2.000000</td>\n",
       "      <td>227.000000</td>\n",
       "    </tr>\n",
       "    <tr>\n",
       "      <th>max</th>\n",
       "      <td>3.648724e+07</td>\n",
       "      <td>2.743213e+08</td>\n",
       "      <td>40.913060</td>\n",
       "      <td>-73.712990</td>\n",
       "      <td>10000.000000</td>\n",
       "      <td>1250.000000</td>\n",
       "      <td>629.000000</td>\n",
       "      <td>58.500000</td>\n",
       "      <td>327.000000</td>\n",
       "      <td>365.000000</td>\n",
       "    </tr>\n",
       "  </tbody>\n",
       "</table>\n",
       "</div>"
      ],
      "text/plain": [
       "                 id       host_id      latitude     longitude         price  \\\n",
       "count  4.889500e+04  4.889500e+04  48895.000000  48895.000000  48895.000000   \n",
       "mean   1.901714e+07  6.762001e+07     40.728949    -73.952170    152.720687   \n",
       "std    1.098311e+07  7.861097e+07      0.054530      0.046157    240.154170   \n",
       "min    2.539000e+03  2.438000e+03     40.499790    -74.244420      0.000000   \n",
       "25%    9.471945e+06  7.822033e+06     40.690100    -73.983070     69.000000   \n",
       "50%    1.967728e+07  3.079382e+07     40.723070    -73.955680    106.000000   \n",
       "75%    2.915218e+07  1.074344e+08     40.763115    -73.936275    175.000000   \n",
       "max    3.648724e+07  2.743213e+08     40.913060    -73.712990  10000.000000   \n",
       "\n",
       "       minimum_nights  number_of_reviews  reviews_per_month  \\\n",
       "count    48895.000000       48895.000000       48895.000000   \n",
       "mean         7.029962          23.274466           1.090910   \n",
       "std         20.510550          44.550582           1.597283   \n",
       "min          1.000000           0.000000           0.000000   \n",
       "25%          1.000000           1.000000           0.040000   \n",
       "50%          3.000000           5.000000           0.370000   \n",
       "75%          5.000000          24.000000           1.580000   \n",
       "max       1250.000000         629.000000          58.500000   \n",
       "\n",
       "       calculated_host_listings_count  availability_365  \n",
       "count                    48895.000000      48895.000000  \n",
       "mean                         7.143982        112.781327  \n",
       "std                         32.952519        131.622289  \n",
       "min                          1.000000          0.000000  \n",
       "25%                          1.000000          0.000000  \n",
       "50%                          1.000000         45.000000  \n",
       "75%                          2.000000        227.000000  \n",
       "max                        327.000000        365.000000  "
      ]
     },
     "execution_count": 7,
     "metadata": {},
     "output_type": "execute_result"
    }
   ],
   "source": [
    "df.describe()"
   ]
  },
  {
   "cell_type": "markdown",
   "id": "858dc9d8",
   "metadata": {
    "papermill": {
     "duration": 0.012671,
     "end_time": "2023-06-16T14:11:50.699635",
     "exception": false,
     "start_time": "2023-06-16T14:11:50.686964",
     "status": "completed"
    },
    "tags": []
   },
   "source": [
    "There are some type of rooms if you see above. Find how many type of rooms in this dataset."
   ]
  },
  {
   "cell_type": "code",
   "execution_count": 8,
   "id": "7b7ed2db",
   "metadata": {
    "execution": {
     "iopub.execute_input": "2023-06-16T14:11:50.728045Z",
     "iopub.status.busy": "2023-06-16T14:11:50.727364Z",
     "iopub.status.idle": "2023-06-16T14:11:50.738290Z",
     "shell.execute_reply": "2023-06-16T14:11:50.737082Z"
    },
    "papermill": {
     "duration": 0.028063,
     "end_time": "2023-06-16T14:11:50.740897",
     "exception": false,
     "start_time": "2023-06-16T14:11:50.712834",
     "status": "completed"
    },
    "tags": []
   },
   "outputs": [
    {
     "name": "stdout",
     "output_type": "stream",
     "text": [
      "# of unique Room Type: 3\n"
     ]
    }
   ],
   "source": [
    "# count distinct value of \"room_type\"\n",
    "unique_room = len(pd.unique(df[\"room_type\"]))\n",
    "  \n",
    "print(\"# of unique Room Type: \" + str(unique_room))"
   ]
  },
  {
   "cell_type": "markdown",
   "id": "efb9e0ae",
   "metadata": {
    "papermill": {
     "duration": 0.012904,
     "end_time": "2023-06-16T14:11:50.767202",
     "exception": false,
     "start_time": "2023-06-16T14:11:50.754298",
     "status": "completed"
    },
    "tags": []
   },
   "source": [
    "Plot the room type against the number of rooms."
   ]
  },
  {
   "cell_type": "code",
   "execution_count": 9,
   "id": "c31c7427",
   "metadata": {
    "execution": {
     "iopub.execute_input": "2023-06-16T14:11:50.795493Z",
     "iopub.status.busy": "2023-06-16T14:11:50.795067Z",
     "iopub.status.idle": "2023-06-16T14:11:51.080825Z",
     "shell.execute_reply": "2023-06-16T14:11:51.079747Z"
    },
    "papermill": {
     "duration": 0.302626,
     "end_time": "2023-06-16T14:11:51.083216",
     "exception": false,
     "start_time": "2023-06-16T14:11:50.780590",
     "status": "completed"
    },
    "tags": []
   },
   "outputs": [
    {
     "data": {
      "image/png": "[encoded data removed]",
      "text/plain": [
       "<Figure size 600x400 with 1 Axes>"
      ]
     },
     "metadata": {},
     "output_type": "display_data"
    }
   ],
   "source": [
    "# plotting histogram\n",
    "color_palette = ['thistle'] \n",
    "\n",
    "plt.style.use(\"default\")\n",
    "plt.figure(figsize=(6,4)) # specify size of the chart\n",
    "plt.hist(df.room_type, bins = 3, \n",
    "         width = 0.6, color = color_palette)\n",
    "\n",
    "# adding annotations and visuals\n",
    "plt.xlabel(\"Room Type\")\n",
    "plt.ylabel(\"Frequency\")\n",
    "plt.title(\"Number of Rooms by Type\")\n",
    "plt.show()"
   ]
  },
  {
   "cell_type": "markdown",
   "id": "dfe77e49",
   "metadata": {
    "papermill": {
     "duration": 0.013401,
     "end_time": "2023-06-16T14:11:51.110490",
     "exception": false,
     "start_time": "2023-06-16T14:11:51.097089",
     "status": "completed"
    },
    "tags": []
   },
   "source": [
    "Another information that is usefull is what is the average price for every neighbourhood group? Who has the biggest average?"
   ]
  },
  {
   "cell_type": "code",
   "execution_count": 10,
   "id": "69bcf64f",
   "metadata": {
    "execution": {
     "iopub.execute_input": "2023-06-16T14:11:51.140347Z",
     "iopub.status.busy": "2023-06-16T14:11:51.139502Z",
     "iopub.status.idle": "2023-06-16T14:11:51.594214Z",
     "shell.execute_reply": "2023-06-16T14:11:51.593384Z"
    },
    "papermill": {
     "duration": 0.472079,
     "end_time": "2023-06-16T14:11:51.596392",
     "exception": false,
     "start_time": "2023-06-16T14:11:51.124313",
     "status": "completed"
    },
    "tags": []
   },
   "outputs": [
    {
     "data": {
      "image/png": "[encoded data removed]",
      "text/plain": [
       "<Figure size 1000x400 with 1 Axes>"
      ]
     },
     "metadata": {},
     "output_type": "display_data"
    }
   ],
   "source": [
    "# Group the data by 'neighbourhood_group' and calculate the average price\n",
    "grouped_data = df.groupby('neighbourhood_group')['price'].mean()\n",
    "color_palette = ['lightcyan','paleturquoise','powderblue','cadetblue','darkcyan']\n",
    "mean_price = 152.720687\n",
    "\n",
    "# Plotting the histogram\n",
    "fig, ax = plt.subplots(figsize=(10,4))\n",
    "\n",
    "# Bar plot\n",
    "grouped_data.plot(kind='bar', ax=ax, alpha=0.7, color=color_palette)\n",
    "ax.set_xlabel('Neighbourhood Group')\n",
    "ax.set_ylabel('Average Price')\n",
    "ax.set_title('Average Price by Neighbourhood Group')\n",
    "\n",
    "# Line plot\n",
    "grouped_data.plot(kind='line', ax=ax, marker='o', color='black')\n",
    "plt.axhline(mean_price, color = \"Red\",linestyle='--', label = \"Overall Average Price\")\n",
    "plt.legend()\n",
    "\n",
    "plt.legend()\n",
    "plt.show()"
   ]
  },
  {
   "cell_type": "markdown",
   "id": "5c054c43",
   "metadata": {
    "papermill": {
     "duration": 0.014214,
     "end_time": "2023-06-16T14:11:51.625304",
     "exception": false,
     "start_time": "2023-06-16T14:11:51.611090",
     "status": "completed"
    },
    "tags": []
   },
   "source": [
    "Overall, Manhattan has the most expensive room aboved overall average price followed by Brooklyn, Staten Island, Queens, and Bronx. "
   ]
  },
  {
   "cell_type": "markdown",
   "id": "a390c9c7",
   "metadata": {
    "papermill": {
     "duration": 0.014624,
     "end_time": "2023-06-16T14:11:51.654625",
     "exception": false,
     "start_time": "2023-06-16T14:11:51.640001",
     "status": "completed"
    },
    "tags": []
   },
   "source": [
    "Next, we want to know the average o availability by it's room type to know estimate sales."
   ]
  },
  {
   "cell_type": "code",
   "execution_count": 11,
   "id": "23a6fc62",
   "metadata": {
    "execution": {
     "iopub.execute_input": "2023-06-16T14:11:51.686334Z",
     "iopub.status.busy": "2023-06-16T14:11:51.685622Z",
     "iopub.status.idle": "2023-06-16T14:11:52.003660Z",
     "shell.execute_reply": "2023-06-16T14:11:52.002592Z"
    },
    "papermill": {
     "duration": 0.336762,
     "end_time": "2023-06-16T14:11:52.006123",
     "exception": false,
     "start_time": "2023-06-16T14:11:51.669361",
     "status": "completed"
    },
    "tags": []
   },
   "outputs": [
    {
     "data": {
      "image/png": "[encoded data removed]",
      "text/plain": [
       "<Figure size 1000x400 with 1 Axes>"
      ]
     },
     "metadata": {},
     "output_type": "display_data"
    }
   ],
   "source": [
    "# Group the data by 'room_type' and calculate the average price\n",
    "grouped_data2 = df.groupby('room_type')['availability_365'].mean()\n",
    "color_palette = ['violet','purple','darkmagenta']\n",
    "\n",
    "# Plotting the histogram\n",
    "fig, ax = plt.subplots(figsize=(10,4))\n",
    "\n",
    "# Bar plot\n",
    "grouped_data2.plot(kind='bar', ax=ax, alpha=0.7, color=color_palette)\n",
    "ax.set_xlabel('Room Type')\n",
    "ax.set_ylabel('Average Availability')\n",
    "ax.set_title('Average Availability by Room Type')\n",
    "plt.xticks(rotation=0)\n",
    "plt.legend()\n",
    "plt.show()"
   ]
  },
  {
   "cell_type": "markdown",
   "id": "66c965ec",
   "metadata": {
    "papermill": {
     "duration": 0.014833,
     "end_time": "2023-06-16T14:11:52.036106",
     "exception": false,
     "start_time": "2023-06-16T14:11:52.021273",
     "status": "completed"
    },
    "tags": []
   },
   "source": [
    "Shared room has the longest available day while entire home/apt has the shortest."
   ]
  },
  {
   "cell_type": "markdown",
   "id": "267a3f3a",
   "metadata": {
    "papermill": {
     "duration": 0.014462,
     "end_time": "2023-06-16T14:11:52.065506",
     "exception": false,
     "start_time": "2023-06-16T14:11:52.051044",
     "status": "completed"
    },
    "tags": []
   },
   "source": [
    "Then we come up with some question. \n",
    "\n",
    "What is the spread of price for every type of neighbourhood group?"
   ]
  },
  {
   "cell_type": "code",
   "execution_count": 12,
   "id": "ad9932e5",
   "metadata": {
    "execution": {
     "iopub.execute_input": "2023-06-16T14:11:52.097352Z",
     "iopub.status.busy": "2023-06-16T14:11:52.096931Z",
     "iopub.status.idle": "2023-06-16T14:11:54.064736Z",
     "shell.execute_reply": "2023-06-16T14:11:54.063663Z"
    },
    "papermill": {
     "duration": 1.987115,
     "end_time": "2023-06-16T14:11:54.067475",
     "exception": false,
     "start_time": "2023-06-16T14:11:52.080360",
     "status": "completed"
    },
    "tags": []
   },
   "outputs": [
    {
     "data": {
      "image/png": "[encoded data removed]",
      "text/plain": [
       "<Figure size 800x600 with 2 Axes>"
      ]
     },
     "metadata": {},
     "output_type": "display_data"
    }
   ],
   "source": [
    "# plotting scatter plot\n",
    "plt.style.use(\"default\")\n",
    "plt.figure(figsize=(8,6)) # Specify size of the chart\n",
    "plt.scatter(df.neighbourhood_group,df.price, \n",
    "            alpha = 0.8, c = df.price,\n",
    "            cmap = \"Spectral\")\n",
    "\n",
    "\n",
    "plt.colorbar(orientation = \"vertical\")\n",
    "plt.xlabel(\"Neighbourhood Group\")\n",
    "plt.ylabel(\"Price\")\n",
    "plt.title(\"Price for Every Type of Neighbourhood Group\")\n",
    "plt.legend()\n",
    "plt.show()"
   ]
  },
  {
   "cell_type": "markdown",
   "id": "ca72c681",
   "metadata": {
    "papermill": {
     "duration": 0.015746,
     "end_time": "2023-06-16T14:11:54.099252",
     "exception": false,
     "start_time": "2023-06-16T14:11:54.083506",
     "status": "completed"
    },
    "tags": []
   },
   "source": [
    "From the scatter plot, we can get informations such as:\n",
    "1. Price from 0-1000 piled on every single neighbourhood group.\n",
    "2. Brooklyn, Manhattan, and Queens have the most expensive room at price 10000."
   ]
  },
  {
   "cell_type": "code",
   "execution_count": 13,
   "id": "62a677ff",
   "metadata": {
    "execution": {
     "iopub.execute_input": "2023-06-16T14:11:54.133951Z",
     "iopub.status.busy": "2023-06-16T14:11:54.132947Z",
     "iopub.status.idle": "2023-06-16T14:11:56.044011Z",
     "shell.execute_reply": "2023-06-16T14:11:56.042915Z"
    },
    "papermill": {
     "duration": 1.931095,
     "end_time": "2023-06-16T14:11:56.046678",
     "exception": false,
     "start_time": "2023-06-16T14:11:54.115583",
     "status": "completed"
    },
    "tags": []
   },
   "outputs": [
    {
     "data": {
      "image/png": "[encoded data removed]",
      "text/plain": [
       "<Figure size 800x600 with 2 Axes>"
      ]
     },
     "metadata": {},
     "output_type": "display_data"
    }
   ],
   "source": [
    "# plotting scatter plot\n",
    "plt.style.use(\"default\")\n",
    "plt.figure(figsize=(8,6)) # Specify size of the chart\n",
    "plt.scatter(df.availability_365,df.price, \n",
    "            alpha = 0.8, c = df.price,\n",
    "            cmap = \"viridis\")\n",
    "\n",
    "\n",
    "plt.colorbar(orientation = \"vertical\")\n",
    "plt.xlabel(\" Availability in a Year\")\n",
    "plt.ylabel(\"Price\")\n",
    "plt.title(\"Availability for Every Type of Neighbourhood Group\")\n",
    "plt.legend()\n",
    "plt.show()"
   ]
  },
  {
   "cell_type": "markdown",
   "id": "b7652b0c",
   "metadata": {
    "papermill": {
     "duration": 0.017094,
     "end_time": "2023-06-16T14:11:56.081724",
     "exception": false,
     "start_time": "2023-06-16T14:11:56.064630",
     "status": "completed"
    },
    "tags": []
   },
   "source": [
    "Fron the scatter plot above, \n",
    "1. There is no correlation between price and the availability of rooms in a year.\n",
    "2. Dots piled up when price between 0 until 1000. It means many rooms with a price 0 until 1000 have many different level of availability,"
   ]
  },
  {
   "cell_type": "markdown",
   "id": "98d93002",
   "metadata": {
    "papermill": {
     "duration": 0.017063,
     "end_time": "2023-06-16T14:11:56.116591",
     "exception": false,
     "start_time": "2023-06-16T14:11:56.099528",
     "status": "completed"
    },
    "tags": []
   },
   "source": [
    "Last, we want to find five top hosts."
   ]
  },
  {
   "cell_type": "code",
   "execution_count": 14,
   "id": "4af4270e",
   "metadata": {
    "execution": {
     "iopub.execute_input": "2023-06-16T14:11:56.153029Z",
     "iopub.status.busy": "2023-06-16T14:11:56.152657Z",
     "iopub.status.idle": "2023-06-16T14:11:56.166023Z",
     "shell.execute_reply": "2023-06-16T14:11:56.164945Z"
    },
    "papermill": {
     "duration": 0.034668,
     "end_time": "2023-06-16T14:11:56.168672",
     "exception": false,
     "start_time": "2023-06-16T14:11:56.134004",
     "status": "completed"
    },
    "tags": []
   },
   "outputs": [
    {
     "data": {
      "text/plain": [
       "219517861    327\n",
       "107434423    232\n",
       "30283594     121\n",
       "137358866    103\n",
       "16098958      96\n",
       "            ... \n",
       "23727216       1\n",
       "89211125       1\n",
       "19928013       1\n",
       "1017772        1\n",
       "68119814       1\n",
       "Name: host_id, Length: 37457, dtype: int64"
      ]
     },
     "execution_count": 14,
     "metadata": {},
     "output_type": "execute_result"
    }
   ],
   "source": [
    "# Searching for top host \n",
    "count_host = df.host_id.value_counts(normalize=False, sort=True, ascending=False, bins=None)\n",
    "count_host"
   ]
  },
  {
   "cell_type": "code",
   "execution_count": 15,
   "id": "ed5a4ec5",
   "metadata": {
    "execution": {
     "iopub.execute_input": "2023-06-16T14:11:56.206945Z",
     "iopub.status.busy": "2023-06-16T14:11:56.206558Z",
     "iopub.status.idle": "2023-06-16T14:11:56.213539Z",
     "shell.execute_reply": "2023-06-16T14:11:56.212797Z"
    },
    "papermill": {
     "duration": 0.028186,
     "end_time": "2023-06-16T14:11:56.215651",
     "exception": false,
     "start_time": "2023-06-16T14:11:56.187465",
     "status": "completed"
    },
    "tags": []
   },
   "outputs": [
    {
     "data": {
      "text/plain": [
       "219517861    327\n",
       "107434423    232\n",
       "30283594     121\n",
       "137358866    103\n",
       "16098958      96\n",
       "Name: host_id, dtype: int64"
      ]
     },
     "execution_count": 15,
     "metadata": {},
     "output_type": "execute_result"
    }
   ],
   "source": [
    "# Limit to top 5\n",
    "top_host = count_host.head(5)\n",
    "top_host"
   ]
  },
  {
   "cell_type": "markdown",
   "id": "3c0bf055",
   "metadata": {
    "papermill": {
     "duration": 0.017405,
     "end_time": "2023-06-16T14:11:56.250858",
     "exception": false,
     "start_time": "2023-06-16T14:11:56.233453",
     "status": "completed"
    },
    "tags": []
   },
   "source": [
    "We have the list, but to plot it, the list should have a header and set the original index."
   ]
  },
  {
   "cell_type": "code",
   "execution_count": 16,
   "id": "23bf7304",
   "metadata": {
    "execution": {
     "iopub.execute_input": "2023-06-16T14:11:56.288643Z",
     "iopub.status.busy": "2023-06-16T14:11:56.288211Z",
     "iopub.status.idle": "2023-06-16T14:11:56.299830Z",
     "shell.execute_reply": "2023-06-16T14:11:56.298718Z"
    },
    "papermill": {
     "duration": 0.033468,
     "end_time": "2023-06-16T14:11:56.302181",
     "exception": false,
     "start_time": "2023-06-16T14:11:56.268713",
     "status": "completed"
    },
    "tags": []
   },
   "outputs": [
    {
     "data": {
      "text/html": [
       "<div>\n",
       "<style scoped>\n",
       "    .dataframe tbody tr th:only-of-type {\n",
       "        vertical-align: middle;\n",
       "    }\n",
       "\n",
       "    .dataframe tbody tr th {\n",
       "        vertical-align: top;\n",
       "    }\n",
       "\n",
       "    .dataframe thead th {\n",
       "        text-align: right;\n",
       "    }\n",
       "</style>\n",
       "<table border=\"1\" class=\"dataframe\">\n",
       "  <thead>\n",
       "    <tr style=\"text-align: right;\">\n",
       "      <th></th>\n",
       "      <th>host_id</th>\n",
       "      <th>count</th>\n",
       "    </tr>\n",
       "  </thead>\n",
       "  <tbody>\n",
       "    <tr>\n",
       "      <th>0</th>\n",
       "      <td>219517861</td>\n",
       "      <td>327</td>\n",
       "    </tr>\n",
       "    <tr>\n",
       "      <th>1</th>\n",
       "      <td>107434423</td>\n",
       "      <td>232</td>\n",
       "    </tr>\n",
       "    <tr>\n",
       "      <th>2</th>\n",
       "      <td>30283594</td>\n",
       "      <td>121</td>\n",
       "    </tr>\n",
       "    <tr>\n",
       "      <th>3</th>\n",
       "      <td>137358866</td>\n",
       "      <td>103</td>\n",
       "    </tr>\n",
       "    <tr>\n",
       "      <th>4</th>\n",
       "      <td>16098958</td>\n",
       "      <td>96</td>\n",
       "    </tr>\n",
       "  </tbody>\n",
       "</table>\n",
       "</div>"
      ],
      "text/plain": [
       "     host_id  count\n",
       "0  219517861    327\n",
       "1  107434423    232\n",
       "2   30283594    121\n",
       "3  137358866    103\n",
       "4   16098958     96"
      ]
     },
     "execution_count": 16,
     "metadata": {},
     "output_type": "execute_result"
    }
   ],
   "source": [
    "# Reset the index to include the original index as a column\n",
    "top_host = top_host.reset_index()\n",
    "\n",
    "# Rename the columns to 'host_id' and 'count'\n",
    "top_host.columns = ['host_id', 'count']\n",
    "\n",
    "top_host"
   ]
  },
  {
   "cell_type": "code",
   "execution_count": 17,
   "id": "3beb6158",
   "metadata": {
    "execution": {
     "iopub.execute_input": "2023-06-16T14:11:56.341440Z",
     "iopub.status.busy": "2023-06-16T14:11:56.340999Z",
     "iopub.status.idle": "2023-06-16T14:11:56.623019Z",
     "shell.execute_reply": "2023-06-16T14:11:56.621814Z"
    },
    "papermill": {
     "duration": 0.304813,
     "end_time": "2023-06-16T14:11:56.625604",
     "exception": false,
     "start_time": "2023-06-16T14:11:56.320791",
     "status": "completed"
    },
    "tags": []
   },
   "outputs": [
    {
     "data": {
      "image/png": "[encoded data removed]",
      "text/plain": [
       "<Figure size 600x400 with 1 Axes>"
      ]
     },
     "metadata": {},
     "output_type": "display_data"
    }
   ],
   "source": [
    "# plotting histogram\n",
    "top_host['host_id'] = top_host['host_id'].astype(str)\n",
    "color_palette = ['mistyrose','lightsalmon','lightcoral','indianred','firebrick'] \n",
    "\n",
    "plt.style.use(\"default\")\n",
    "plt.figure(figsize=(6,4)) # specify size of the chart\n",
    "plt.bar(top_host['host_id'],top_host['count'], color = color_palette)\n",
    "\n",
    "# adding annotations and visuals\n",
    "plt.xlabel(\"Host Id\")\n",
    "plt.ylabel(\"Count\")\n",
    "plt.title(\"Top 5 Hosts with the Most Listings\")\n",
    "\n",
    "# Rotating the x-axis labels for better visibility if needed\n",
    "plt.xticks(rotation=45)\n",
    "\n",
    "plt.show()"
   ]
  },
  {
   "cell_type": "markdown",
   "id": "45b6052c",
   "metadata": {
    "papermill": {
     "duration": 0.018493,
     "end_time": "2023-06-16T14:11:56.663009",
     "exception": false,
     "start_time": "2023-06-16T14:11:56.644516",
     "status": "completed"
    },
    "tags": []
   },
   "source": [
    "We already have the graph, but to it's difficult to do the analysis. To know that, we will find the name first."
   ]
  },
  {
   "cell_type": "code",
   "execution_count": 18,
   "id": "4c01f221",
   "metadata": {
    "execution": {
     "iopub.execute_input": "2023-06-16T14:11:56.702347Z",
     "iopub.status.busy": "2023-06-16T14:11:56.701768Z",
     "iopub.status.idle": "2023-06-16T14:11:56.718476Z",
     "shell.execute_reply": "2023-06-16T14:11:56.717205Z"
    },
    "papermill": {
     "duration": 0.039761,
     "end_time": "2023-06-16T14:11:56.721354",
     "exception": false,
     "start_time": "2023-06-16T14:11:56.681593",
     "status": "completed"
    },
    "tags": []
   },
   "outputs": [
    {
     "name": "stdout",
     "output_type": "stream",
     "text": [
      "Id 219517861 is Sonder (NYC) in Manhattan\n",
      "Id 107434423 is Blueground in Manhattan\n",
      "Id 30283594 is Kara in Manhattan\n",
      "Id 137358866 is Kazuya in Manhattan\n",
      "Id 16098958 is Jeremy & Laura in Manhattan\n"
     ]
    }
   ],
   "source": [
    "host_name1 = df.loc[df['host_id'] == 219517861, 'host_name'].values[0]\n",
    "host_place1 = df.loc[df['host_id'] == 219517861, 'neighbourhood_group'].values[0]\n",
    "print(\"Id 219517861 is\",host_name1, \"in\", host_place1)\n",
    "host_name2 = df.loc[df['host_id'] == 107434423, 'host_name'].values[0]\n",
    "host_place2 = df.loc[df['host_id'] == 107434423, 'neighbourhood_group'].values[0]\n",
    "print(\"Id 107434423 is\",host_name2, \"in\", host_place2)\n",
    "host_name3 = df.loc[df['host_id'] == 30283594, 'host_name'].values[0]\n",
    "host_place3 = df.loc[df['host_id'] == 30283594, 'neighbourhood_group'].values[0]\n",
    "print(\"Id 30283594 is\", host_name3, \"in\", host_place3)\n",
    "host_name4 = df.loc[df['host_id'] == 137358866, 'host_name'].values[0]\n",
    "host_place4 = df.loc[df['host_id'] == 137358866, 'neighbourhood_group'].values[0]\n",
    "print(\"Id 137358866 is\",host_name4, \"in\", host_place4)\n",
    "host_name5 = df.loc[df['host_id'] == 16098958, 'host_name'].values[0]\n",
    "host_place5 = df.loc[df['host_id'] == 16098958, 'neighbourhood_group'].values[0]\n",
    "print(\"Id 16098958 is\",host_name5, \"in\", host_place5)"
   ]
  },
  {
   "cell_type": "markdown",
   "id": "2f975aed",
   "metadata": {
    "papermill": {
     "duration": 0.018488,
     "end_time": "2023-06-16T14:11:56.758536",
     "exception": false,
     "start_time": "2023-06-16T14:11:56.740048",
     "status": "completed"
    },
    "tags": []
   },
   "source": [
    "The host who has the most listing is Sonder (NYC) followed by Blueground, Kara, Kazuya, and Jeremy & Laura. There are only a slight difference between Kara, Kazuya, and Jeremy & Laura."
   ]
  },
  {
   "cell_type": "markdown",
   "id": "2608e5a7",
   "metadata": {
    "papermill": {
     "duration": 0.018578,
     "end_time": "2023-06-16T14:11:56.795447",
     "exception": false,
     "start_time": "2023-06-16T14:11:56.776869",
     "status": "completed"
    },
    "tags": []
   },
   "source": [
    "# CONCLUSION"
   ]
  },
  {
   "cell_type": "markdown",
   "id": "d9f0eca1",
   "metadata": {
    "papermill": {
     "duration": 0.022542,
     "end_time": "2023-06-16T14:11:56.839165",
     "exception": false,
     "start_time": "2023-06-16T14:11:56.816623",
     "status": "completed"
    },
    "tags": []
   },
   "source": [
    "After series of analysis, we have come to a conclusion. These are a few insight that we can get from analysis section.\n",
    "\n",
    "**1. To find top 5 listing hosts and their places.**\n",
    "\n",
    "The top 5 hosts is Sonder(NYC), Blueground, Kara, Kazuya, and Jeremy & Laura. All of them host places in Manhattan.\n",
    "\n",
    "**2. To find a suitable place to open airbnb.**\n",
    "\n",
    "If someone want to open airbnb with a high price, Manhataan is the suitable place.\n",
    "\n",
    "According to the graph, Manhataan has a bigger average price than overall average price. Meanwhile, the other four are below overall average price. You may consider to open share room because there are only a few. But, the availability graph show that a high number. Then, you might want to open private room. Although it's availability is slightly higher than private room, the difference of number between them rather big. For the price, you can put between 190-200 for a safe price. The scatter plot show that the amount of room above 4500 are under 10. \n",
    "\n",
    "**The most safe plan is open a private room with a price range between 190-200 in Manhattan**"
   ]
  }
 ],
 "metadata": {
  "kernelspec": {
   "display_name": "Python 3",
   "language": "python",
   "name": "python3"
  },
  "language_info": {
   "codemirror_mode": {
    "name": "ipython",
    "version": 3
   },
   "file_extension": ".py",
   "mimetype": "text/x-python",
   "name": "python",
   "nbconvert_exporter": "python",
   "pygments_lexer": "ipython3",
   "version": "3.10.10"
  },
  "papermill": {
   "default_parameters": {},
   "duration": 20.656893,
   "end_time": "2023-06-16T14:11:57.784567",
   "environment_variables": {},
   "exception": null,
   "input_path": "__notebook__.ipynb",
   "output_path": "__notebook__.ipynb",
   "parameters": {},
   "start_time": "2023-06-16T14:11:37.127674",
   "version": "2.4.0"
  }
 },
 "nbformat": 4,
 "nbformat_minor": 5
}
